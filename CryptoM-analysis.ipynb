{
 "cells": [
  {
   "cell_type": "code",
   "execution_count": 2,
   "metadata": {},
   "outputs": [
    {
     "data": {
      "text/plain": [
       "'\\nCreated on Sat Nov 21 21:34:00 2018\\n\\n@author: alexandremendes\\n'"
      ]
     },
     "execution_count": 2,
     "metadata": {},
     "output_type": "execute_result"
    }
   ],
   "source": [
    "\"\"\"\n",
    "Created on Sat Nov 21 21:34:00 2018\n",
    "\n",
    "@author: alexandremendes\n",
    "\n",
    "Source: https://www.abcbourse.com/download/download.aspx?s=BTCUSDu\n",
    "\"\"\""
   ]
  },
  {
   "cell_type": "markdown",
   "metadata": {},
   "source": [
    "## Librairie"
   ]
  },
  {
   "cell_type": "code",
   "execution_count": 17,
   "metadata": {},
   "outputs": [],
   "source": [
    "import numpy as np\n",
    "import pandas as pd\n",
    "import matplotlib.pyplot as plt\n",
    "import ast"
   ]
  },
  {
   "cell_type": "markdown",
   "metadata": {},
   "source": [
    "# Data"
   ]
  },
  {
   "cell_type": "markdown",
   "metadata": {},
   "source": [
    "### Bitcoin"
   ]
  },
  {
   "cell_type": "code",
   "execution_count": 65,
   "metadata": {},
   "outputs": [],
   "source": [
    "BTC = pd.read_csv('BTCUSD.csv',sep=';')\n",
    "BTC = BTC.rename(columns={'01/01/18': 'Date', '13716,00': 'W', '13888,15': 'X', '12752,07': 'Y', '13392,77': 'Z'})"
   ]
  },
  {
   "cell_type": "code",
   "execution_count": 66,
   "metadata": {},
   "outputs": [],
   "source": [
    "BTC = BTC.replace({',': '.'}, regex=True)\n",
    "BTC.W = list(map(lambda x: ast.literal_eval(x), BTC.W))\n",
    "BTC.X = list(map(lambda x: ast.literal_eval(x), BTC.X))\n",
    "BTC.Y = list(map(lambda x: ast.literal_eval(x), BTC.Y))\n",
    "BTC.Z = list(map(lambda x: ast.literal_eval(x), BTC.Z))"
   ]
  },
  {
   "cell_type": "code",
   "execution_count": 67,
   "metadata": {},
   "outputs": [
    {
     "data": {
      "text/html": [
       "<div>\n",
       "<style scoped>\n",
       "    .dataframe tbody tr th:only-of-type {\n",
       "        vertical-align: middle;\n",
       "    }\n",
       "\n",
       "    .dataframe tbody tr th {\n",
       "        vertical-align: top;\n",
       "    }\n",
       "\n",
       "    .dataframe thead th {\n",
       "        text-align: right;\n",
       "    }\n",
       "</style>\n",
       "<table border=\"1\" class=\"dataframe\">\n",
       "  <thead>\n",
       "    <tr style=\"text-align: right;\">\n",
       "      <th></th>\n",
       "      <th>BTC000000000</th>\n",
       "      <th>Date</th>\n",
       "      <th>W</th>\n",
       "      <th>X</th>\n",
       "      <th>Y</th>\n",
       "      <th>Z</th>\n",
       "      <th>0</th>\n",
       "    </tr>\n",
       "  </thead>\n",
       "  <tbody>\n",
       "    <tr>\n",
       "      <th>0</th>\n",
       "      <td>BTC000000000</td>\n",
       "      <td>02/01/18</td>\n",
       "      <td>13382.09</td>\n",
       "      <td>15569.64</td>\n",
       "      <td>12840.88</td>\n",
       "      <td>14691.73</td>\n",
       "      <td>0</td>\n",
       "    </tr>\n",
       "    <tr>\n",
       "      <th>1</th>\n",
       "      <td>BTC000000000</td>\n",
       "      <td>03/01/18</td>\n",
       "      <td>14690.58</td>\n",
       "      <td>15861.37</td>\n",
       "      <td>14153.65</td>\n",
       "      <td>15138.59</td>\n",
       "      <td>0</td>\n",
       "    </tr>\n",
       "    <tr>\n",
       "      <th>2</th>\n",
       "      <td>BTC000000000</td>\n",
       "      <td>04/01/18</td>\n",
       "      <td>14920.89</td>\n",
       "      <td>16179.94</td>\n",
       "      <td>13923.07</td>\n",
       "      <td>15200.03</td>\n",
       "      <td>0</td>\n",
       "    </tr>\n",
       "    <tr>\n",
       "      <th>3</th>\n",
       "      <td>BTC000000000</td>\n",
       "      <td>05/01/18</td>\n",
       "      <td>15059.83</td>\n",
       "      <td>17170.36</td>\n",
       "      <td>14601.57</td>\n",
       "      <td>16919.10</td>\n",
       "      <td>0</td>\n",
       "    </tr>\n",
       "    <tr>\n",
       "      <th>4</th>\n",
       "      <td>BTC000000000</td>\n",
       "      <td>08/01/18</td>\n",
       "      <td>16218.78</td>\n",
       "      <td>16321.95</td>\n",
       "      <td>12821.26</td>\n",
       "      <td>14915.84</td>\n",
       "      <td>0</td>\n",
       "    </tr>\n",
       "  </tbody>\n",
       "</table>\n",
       "</div>"
      ],
      "text/plain": [
       "   BTC000000000      Date         W         X         Y         Z  0\n",
       "0  BTC000000000  02/01/18  13382.09  15569.64  12840.88  14691.73  0\n",
       "1  BTC000000000  03/01/18  14690.58  15861.37  14153.65  15138.59  0\n",
       "2  BTC000000000  04/01/18  14920.89  16179.94  13923.07  15200.03  0\n",
       "3  BTC000000000  05/01/18  15059.83  17170.36  14601.57  16919.10  0\n",
       "4  BTC000000000  08/01/18  16218.78  16321.95  12821.26  14915.84  0"
      ]
     },
     "execution_count": 67,
     "metadata": {},
     "output_type": "execute_result"
    }
   ],
   "source": [
    "BTC.head()"
   ]
  },
  {
   "cell_type": "code",
   "execution_count": 68,
   "metadata": {},
   "outputs": [
    {
     "data": {
      "text/plain": [
       "[<matplotlib.lines.Line2D at 0x1211cb710>]"
      ]
     },
     "execution_count": 68,
     "metadata": {},
     "output_type": "execute_result"
    },
    {
     "data": {
      "image/png": "[encoded data removed]",
      "text/plain": [
       "<Figure size 432x288 with 1 Axes>"
      ]
     },
     "metadata": {
      "needs_background": "light"
     },
     "output_type": "display_data"
    }
   ],
   "source": [
    "plt.plot(BTC.W)"
   ]
  },
  {
   "cell_type": "markdown",
   "metadata": {},
   "source": [
    "### Augur"
   ]
  },
  {
   "cell_type": "code",
   "execution_count": 73,
   "metadata": {},
   "outputs": [],
   "source": [
    "REP = pd.read_csv('REPUSD.csv',sep=';')\n",
    "REP = REP.rename(columns={'01/01/18': 'Date', '70,00': 'W', '75,40': 'X', '65,00': 'Y', '75,10': 'Z'})"
   ]
  },
  {
   "cell_type": "code",
   "execution_count": 74,
   "metadata": {},
   "outputs": [],
   "source": [
    "REP = REP.replace({',': '.'}, regex=True)\n",
    "REP.W = list(map(lambda x: ast.literal_eval(x), REP.W))\n",
    "REP.X = list(map(lambda x: ast.literal_eval(x), REP.X))\n",
    "REP.Y = list(map(lambda x: ast.literal_eval(x), REP.Y))\n",
    "REP.Z = list(map(lambda x: ast.literal_eval(x), REP.Z))"
   ]
  },
  {
   "cell_type": "code",
   "execution_count": 75,
   "metadata": {},
   "outputs": [
    {
     "data": {
      "text/html": [
       "<div>\n",
       "<style scoped>\n",
       "    .dataframe tbody tr th:only-of-type {\n",
       "        vertical-align: middle;\n",
       "    }\n",
       "\n",
       "    .dataframe tbody tr th {\n",
       "        vertical-align: top;\n",
       "    }\n",
       "\n",
       "    .dataframe thead th {\n",
       "        text-align: right;\n",
       "    }\n",
       "</style>\n",
       "<table border=\"1\" class=\"dataframe\">\n",
       "  <thead>\n",
       "    <tr style=\"text-align: right;\">\n",
       "      <th></th>\n",
       "      <th>ABC000000106</th>\n",
       "      <th>Date</th>\n",
       "      <th>W</th>\n",
       "      <th>X</th>\n",
       "      <th>Y</th>\n",
       "      <th>Z</th>\n",
       "      <th>0</th>\n",
       "    </tr>\n",
       "  </thead>\n",
       "  <tbody>\n",
       "    <tr>\n",
       "      <th>0</th>\n",
       "      <td>ABC000000106</td>\n",
       "      <td>02/01/18</td>\n",
       "      <td>74.95</td>\n",
       "      <td>84.90</td>\n",
       "      <td>74.33</td>\n",
       "      <td>78.21</td>\n",
       "      <td>0</td>\n",
       "    </tr>\n",
       "    <tr>\n",
       "      <th>1</th>\n",
       "      <td>ABC000000106</td>\n",
       "      <td>03/01/18</td>\n",
       "      <td>78.99</td>\n",
       "      <td>80.44</td>\n",
       "      <td>72.00</td>\n",
       "      <td>77.00</td>\n",
       "      <td>0</td>\n",
       "    </tr>\n",
       "    <tr>\n",
       "      <th>2</th>\n",
       "      <td>ABC000000106</td>\n",
       "      <td>04/01/18</td>\n",
       "      <td>77.00</td>\n",
       "      <td>77.21</td>\n",
       "      <td>70.62</td>\n",
       "      <td>73.09</td>\n",
       "      <td>0</td>\n",
       "    </tr>\n",
       "    <tr>\n",
       "      <th>3</th>\n",
       "      <td>ABC000000106</td>\n",
       "      <td>05/01/18</td>\n",
       "      <td>73.00</td>\n",
       "      <td>89.46</td>\n",
       "      <td>70.00</td>\n",
       "      <td>72.87</td>\n",
       "      <td>0</td>\n",
       "    </tr>\n",
       "    <tr>\n",
       "      <th>4</th>\n",
       "      <td>ABC000000106</td>\n",
       "      <td>08/01/18</td>\n",
       "      <td>78.67</td>\n",
       "      <td>97.78</td>\n",
       "      <td>68.00</td>\n",
       "      <td>97.78</td>\n",
       "      <td>0</td>\n",
       "    </tr>\n",
       "  </tbody>\n",
       "</table>\n",
       "</div>"
      ],
      "text/plain": [
       "   ABC000000106      Date      W      X      Y      Z  0\n",
       "0  ABC000000106  02/01/18  74.95  84.90  74.33  78.21  0\n",
       "1  ABC000000106  03/01/18  78.99  80.44  72.00  77.00  0\n",
       "2  ABC000000106  04/01/18  77.00  77.21  70.62  73.09  0\n",
       "3  ABC000000106  05/01/18  73.00  89.46  70.00  72.87  0\n",
       "4  ABC000000106  08/01/18  78.67  97.78  68.00  97.78  0"
      ]
     },
     "execution_count": 75,
     "metadata": {},
     "output_type": "execute_result"
    }
   ],
   "source": [
    "REP.head()"
   ]
  },
  {
   "cell_type": "code",
   "execution_count": 76,
   "metadata": {},
   "outputs": [
    {
     "data": {
      "text/plain": [
       "[<matplotlib.lines.Line2D at 0x121533588>]"
      ]
     },
     "execution_count": 76,
     "metadata": {},
     "output_type": "execute_result"
    },
    {
     "data": {
      "image/png": "[encoded data removed]",
      "text/plain": [
       "<Figure size 432x288 with 1 Axes>"
      ]
     },
     "metadata": {
      "needs_background": "light"
     },
     "output_type": "display_data"
    }
   ],
   "source": [
    "plt.plot(REP.W)"
   ]
  },
  {
   "cell_type": "markdown",
   "metadata": {},
   "source": [
    "### Bitshares"
   ]
  },
  {
   "cell_type": "code",
   "execution_count": 90,
   "metadata": {},
   "outputs": [],
   "source": [
    "BTS = pd.read_csv('BTSUSD.csv',sep=';')\n",
    "BTS = BTS.rename(columns={'01/01/18': 'Date', '0,6206': 'W', '0,7497': 'X', '0,6197': 'Y', '0,7462': 'Z'})"
   ]
  },
  {
   "cell_type": "code",
   "execution_count": 91,
   "metadata": {},
   "outputs": [],
   "source": [
    "BTS = BTS.replace({',': '.'}, regex=True)\n",
    "BTS.W = list(map(lambda x: ast.literal_eval(x), BTS.W))\n",
    "BTS.X = list(map(lambda x: ast.literal_eval(x), BTS.X))\n",
    "BTS.Y = list(map(lambda x: ast.literal_eval(x), BTS.Y))\n",
    "BTS.Z = list(map(lambda x: ast.literal_eval(x), BTS.Z))"
   ]
  },
  {
   "cell_type": "code",
   "execution_count": 92,
   "metadata": {},
   "outputs": [
    {
     "data": {
      "text/html": [
       "<div>\n",
       "<style scoped>\n",
       "    .dataframe tbody tr th:only-of-type {\n",
       "        vertical-align: middle;\n",
       "    }\n",
       "\n",
       "    .dataframe tbody tr th {\n",
       "        vertical-align: top;\n",
       "    }\n",
       "\n",
       "    .dataframe thead th {\n",
       "        text-align: right;\n",
       "    }\n",
       "</style>\n",
       "<table border=\"1\" class=\"dataframe\">\n",
       "  <thead>\n",
       "    <tr style=\"text-align: right;\">\n",
       "      <th></th>\n",
       "      <th>ABC000000114</th>\n",
       "      <th>Date</th>\n",
       "      <th>W</th>\n",
       "      <th>X</th>\n",
       "      <th>Y</th>\n",
       "      <th>Z</th>\n",
       "      <th>0</th>\n",
       "    </tr>\n",
       "  </thead>\n",
       "  <tbody>\n",
       "    <tr>\n",
       "      <th>0</th>\n",
       "      <td>ABC000000114</td>\n",
       "      <td>02/01/18</td>\n",
       "      <td>0.8196</td>\n",
       "      <td>0.9876</td>\n",
       "      <td>0.6631</td>\n",
       "      <td>0.7632</td>\n",
       "      <td>0</td>\n",
       "    </tr>\n",
       "    <tr>\n",
       "      <th>1</th>\n",
       "      <td>ABC000000114</td>\n",
       "      <td>03/01/18</td>\n",
       "      <td>0.7837</td>\n",
       "      <td>0.9049</td>\n",
       "      <td>0.7490</td>\n",
       "      <td>0.8833</td>\n",
       "      <td>0</td>\n",
       "    </tr>\n",
       "    <tr>\n",
       "      <th>2</th>\n",
       "      <td>ABC000000114</td>\n",
       "      <td>04/01/18</td>\n",
       "      <td>0.8844</td>\n",
       "      <td>0.9270</td>\n",
       "      <td>0.7680</td>\n",
       "      <td>0.8244</td>\n",
       "      <td>0</td>\n",
       "    </tr>\n",
       "    <tr>\n",
       "      <th>3</th>\n",
       "      <td>ABC000000114</td>\n",
       "      <td>05/01/18</td>\n",
       "      <td>0.9200</td>\n",
       "      <td>0.9586</td>\n",
       "      <td>0.7102</td>\n",
       "      <td>0.7650</td>\n",
       "      <td>0</td>\n",
       "    </tr>\n",
       "    <tr>\n",
       "      <th>4</th>\n",
       "      <td>ABC000000114</td>\n",
       "      <td>08/01/18</td>\n",
       "      <td>0.7476</td>\n",
       "      <td>0.7710</td>\n",
       "      <td>0.6579</td>\n",
       "      <td>0.7494</td>\n",
       "      <td>0</td>\n",
       "    </tr>\n",
       "  </tbody>\n",
       "</table>\n",
       "</div>"
      ],
      "text/plain": [
       "   ABC000000114      Date       W       X       Y       Z  0\n",
       "0  ABC000000114  02/01/18  0.8196  0.9876  0.6631  0.7632  0\n",
       "1  ABC000000114  03/01/18  0.7837  0.9049  0.7490  0.8833  0\n",
       "2  ABC000000114  04/01/18  0.8844  0.9270  0.7680  0.8244  0\n",
       "3  ABC000000114  05/01/18  0.9200  0.9586  0.7102  0.7650  0\n",
       "4  ABC000000114  08/01/18  0.7476  0.7710  0.6579  0.7494  0"
      ]
     },
     "execution_count": 92,
     "metadata": {},
     "output_type": "execute_result"
    }
   ],
   "source": [
    "BTS.head()"
   ]
  },
  {
   "cell_type": "code",
   "execution_count": 93,
   "metadata": {},
   "outputs": [
    {
     "data": {
      "text/plain": [
       "[<matplotlib.lines.Line2D at 0x1216fad68>]"
      ]
     },
     "execution_count": 93,
     "metadata": {},
     "output_type": "execute_result"
    },
    {
     "data": {
      "image/png": "[encoded data removed]",
      "text/plain": [
       "<Figure size 432x288 with 1 Axes>"
      ]
     },
     "metadata": {
      "needs_background": "light"
     },
     "output_type": "display_data"
    }
   ],
   "source": [
    "plt.plot(BTS.W)"
   ]
  },
  {
   "cell_type": "markdown",
   "metadata": {},
   "source": [
    "### Cardano"
   ]
  },
  {
   "cell_type": "code",
   "execution_count": 130,
   "metadata": {},
   "outputs": [],
   "source": [
    "ADA = pd.read_csv('ADAUSD.csv',sep=';')\n",
    "ADA = ADA.rename(columns={'01/01/18': 'Date', '0,71': 'W', '0,715': 'X', '0,632': 'Y', '0,7022': 'Z'})"
   ]
  },
  {
   "cell_type": "code",
   "execution_count": 132,
   "metadata": {},
   "outputs": [],
   "source": [
    "ADA = ADA.replace({',': '.'}, regex=True)\n",
    "ADA.W = list(map(lambda x: ast.literal_eval(x), ADA.W))\n",
    "ADA.X = list(map(lambda x: ast.literal_eval(x), ADA.X))\n",
    "ADA.Y = list(map(lambda x: ast.literal_eval(x), ADA.Y))\n",
    "ADA.Z = list(map(lambda x: ast.literal_eval(x), ADA.Z))"
   ]
  },
  {
   "cell_type": "code",
   "execution_count": 134,
   "metadata": {},
   "outputs": [
    {
     "data": {
      "text/html": [
       "<div>\n",
       "<style scoped>\n",
       "    .dataframe tbody tr th:only-of-type {\n",
       "        vertical-align: middle;\n",
       "    }\n",
       "\n",
       "    .dataframe tbody tr th {\n",
       "        vertical-align: top;\n",
       "    }\n",
       "\n",
       "    .dataframe thead th {\n",
       "        text-align: right;\n",
       "    }\n",
       "</style>\n",
       "<table border=\"1\" class=\"dataframe\">\n",
       "  <thead>\n",
       "    <tr style=\"text-align: right;\">\n",
       "      <th></th>\n",
       "      <th>ABC000000097</th>\n",
       "      <th>Date</th>\n",
       "      <th>W</th>\n",
       "      <th>X</th>\n",
       "      <th>Y</th>\n",
       "      <th>Z</th>\n",
       "      <th>0</th>\n",
       "    </tr>\n",
       "  </thead>\n",
       "  <tbody>\n",
       "    <tr>\n",
       "      <th>0</th>\n",
       "      <td>ABC000000097</td>\n",
       "      <td>02/01/18</td>\n",
       "      <td>0.7022</td>\n",
       "      <td>0.80</td>\n",
       "      <td>0.6750</td>\n",
       "      <td>0.762</td>\n",
       "      <td>0</td>\n",
       "    </tr>\n",
       "    <tr>\n",
       "      <th>1</th>\n",
       "      <td>ABC000000097</td>\n",
       "      <td>03/01/18</td>\n",
       "      <td>0.7620</td>\n",
       "      <td>1.10</td>\n",
       "      <td>0.7601</td>\n",
       "      <td>1.100</td>\n",
       "      <td>0</td>\n",
       "    </tr>\n",
       "    <tr>\n",
       "      <th>2</th>\n",
       "      <td>ABC000000097</td>\n",
       "      <td>04/01/18</td>\n",
       "      <td>1.1100</td>\n",
       "      <td>1.38</td>\n",
       "      <td>1.0400</td>\n",
       "      <td>1.130</td>\n",
       "      <td>0</td>\n",
       "    </tr>\n",
       "    <tr>\n",
       "      <th>3</th>\n",
       "      <td>ABC000000097</td>\n",
       "      <td>05/01/18</td>\n",
       "      <td>1.1500</td>\n",
       "      <td>1.30</td>\n",
       "      <td>0.9000</td>\n",
       "      <td>1.010</td>\n",
       "      <td>0</td>\n",
       "    </tr>\n",
       "    <tr>\n",
       "      <th>4</th>\n",
       "      <td>ABC000000097</td>\n",
       "      <td>08/01/18</td>\n",
       "      <td>1.0100</td>\n",
       "      <td>1.02</td>\n",
       "      <td>0.7359</td>\n",
       "      <td>0.900</td>\n",
       "      <td>0</td>\n",
       "    </tr>\n",
       "  </tbody>\n",
       "</table>\n",
       "</div>"
      ],
      "text/plain": [
       "   ABC000000097      Date       W     X       Y      Z  0\n",
       "0  ABC000000097  02/01/18  0.7022  0.80  0.6750  0.762  0\n",
       "1  ABC000000097  03/01/18  0.7620  1.10  0.7601  1.100  0\n",
       "2  ABC000000097  04/01/18  1.1100  1.38  1.0400  1.130  0\n",
       "3  ABC000000097  05/01/18  1.1500  1.30  0.9000  1.010  0\n",
       "4  ABC000000097  08/01/18  1.0100  1.02  0.7359  0.900  0"
      ]
     },
     "execution_count": 134,
     "metadata": {},
     "output_type": "execute_result"
    }
   ],
   "source": [
    "ADA.head()"
   ]
  },
  {
   "cell_type": "code",
   "execution_count": 141,
   "metadata": {},
   "outputs": [
    {
     "data": {
      "text/plain": [
       "[<matplotlib.lines.Line2D at 0x121ccb978>]"
      ]
     },
     "execution_count": 141,
     "metadata": {},
     "output_type": "execute_result"
    },
    {
     "data": {
      "image/png": "[encoded data removed]",
      "text/plain": [
       "<Figure size 432x288 with 1 Axes>"
      ]
     },
     "metadata": {
      "needs_background": "light"
     },
     "output_type": "display_data"
    }
   ],
   "source": [
    "plt.plot(ADA.W)"
   ]
  },
  {
   "cell_type": "markdown",
   "metadata": {},
   "source": [
    "### DigitalCash"
   ]
  },
  {
   "cell_type": "code",
   "execution_count": 147,
   "metadata": {},
   "outputs": [],
   "source": [
    "DASH = pd.read_csv('DASHUSD.csv',sep=';')\n",
    "DASH = DASH.rename(columns={'01/01/18': 'Date', '1013,89': 'W', '1039,10': 'X', '969,44': 'Y', '1019,42': 'Z'})"
   ]
  },
  {
   "cell_type": "code",
   "execution_count": 148,
   "metadata": {},
   "outputs": [],
   "source": [
    "DASH = DASH.replace({',': '.'}, regex=True)\n",
    "DASH.W = list(map(lambda x: ast.literal_eval(x), DASH.W))\n",
    "DASH.X = list(map(lambda x: ast.literal_eval(x), DASH.X))\n",
    "DASH.Y = list(map(lambda x: ast.literal_eval(x), DASH.Y))\n",
    "DASH.Z = list(map(lambda x: ast.literal_eval(x), DASH.Z))"
   ]
  },
  {
   "cell_type": "code",
   "execution_count": 149,
   "metadata": {},
   "outputs": [
    {
     "data": {
      "text/html": [
       "<div>\n",
       "<style scoped>\n",
       "    .dataframe tbody tr th:only-of-type {\n",
       "        vertical-align: middle;\n",
       "    }\n",
       "\n",
       "    .dataframe tbody tr th {\n",
       "        vertical-align: top;\n",
       "    }\n",
       "\n",
       "    .dataframe thead th {\n",
       "        text-align: right;\n",
       "    }\n",
       "</style>\n",
       "<table border=\"1\" class=\"dataframe\">\n",
       "  <thead>\n",
       "    <tr style=\"text-align: right;\">\n",
       "      <th></th>\n",
       "      <th>ABC000000104</th>\n",
       "      <th>Date</th>\n",
       "      <th>W</th>\n",
       "      <th>X</th>\n",
       "      <th>Y</th>\n",
       "      <th>Z</th>\n",
       "      <th>0</th>\n",
       "    </tr>\n",
       "  </thead>\n",
       "  <tbody>\n",
       "    <tr>\n",
       "      <th>0</th>\n",
       "      <td>ABC000000104</td>\n",
       "      <td>02/01/18</td>\n",
       "      <td>1019.63</td>\n",
       "      <td>1194.94</td>\n",
       "      <td>1019.57</td>\n",
       "      <td>1162.47</td>\n",
       "      <td>0</td>\n",
       "    </tr>\n",
       "    <tr>\n",
       "      <th>1</th>\n",
       "      <td>ABC000000104</td>\n",
       "      <td>03/01/18</td>\n",
       "      <td>1162.47</td>\n",
       "      <td>1167.50</td>\n",
       "      <td>1088.34</td>\n",
       "      <td>1129.89</td>\n",
       "      <td>0</td>\n",
       "    </tr>\n",
       "    <tr>\n",
       "      <th>2</th>\n",
       "      <td>ABC000000104</td>\n",
       "      <td>04/01/18</td>\n",
       "      <td>1130.10</td>\n",
       "      <td>1200.17</td>\n",
       "      <td>1036.82</td>\n",
       "      <td>1120.12</td>\n",
       "      <td>0</td>\n",
       "    </tr>\n",
       "    <tr>\n",
       "      <th>3</th>\n",
       "      <td>ABC000000104</td>\n",
       "      <td>05/01/18</td>\n",
       "      <td>1120.12</td>\n",
       "      <td>1160.73</td>\n",
       "      <td>1067.54</td>\n",
       "      <td>1080.88</td>\n",
       "      <td>0</td>\n",
       "    </tr>\n",
       "    <tr>\n",
       "      <th>4</th>\n",
       "      <td>ABC000000104</td>\n",
       "      <td>08/01/18</td>\n",
       "      <td>1161.96</td>\n",
       "      <td>1186.81</td>\n",
       "      <td>979.59</td>\n",
       "      <td>1080.36</td>\n",
       "      <td>0</td>\n",
       "    </tr>\n",
       "  </tbody>\n",
       "</table>\n",
       "</div>"
      ],
      "text/plain": [
       "   ABC000000104      Date        W        X        Y        Z  0\n",
       "0  ABC000000104  02/01/18  1019.63  1194.94  1019.57  1162.47  0\n",
       "1  ABC000000104  03/01/18  1162.47  1167.50  1088.34  1129.89  0\n",
       "2  ABC000000104  04/01/18  1130.10  1200.17  1036.82  1120.12  0\n",
       "3  ABC000000104  05/01/18  1120.12  1160.73  1067.54  1080.88  0\n",
       "4  ABC000000104  08/01/18  1161.96  1186.81   979.59  1080.36  0"
      ]
     },
     "execution_count": 149,
     "metadata": {},
     "output_type": "execute_result"
    }
   ],
   "source": [
    "DASH.head()"
   ]
  },
  {
   "cell_type": "code",
   "execution_count": 156,
   "metadata": {},
   "outputs": [
    {
     "data": {
      "text/plain": [
       "[<matplotlib.lines.Line2D at 0x121db5ba8>]"
      ]
     },
     "execution_count": 156,
     "metadata": {},
     "output_type": "execute_result"
    },
    {
     "data": {
      "image/png": "[encoded data removed]",
      "text/plain": [
       "<Figure size 432x288 with 1 Axes>"
      ]
     },
     "metadata": {
      "needs_background": "light"
     },
     "output_type": "display_data"
    }
   ],
   "source": [
    "plt.plot(DASH.W)"
   ]
  },
  {
   "cell_type": "markdown",
   "metadata": {},
   "source": [
    "### DogeCoin"
   ]
  },
  {
   "cell_type": "code",
   "execution_count": 159,
   "metadata": {},
   "outputs": [],
   "source": [
    "DOGE = pd.read_csv('DOGEUSD.csv',sep=';')\n",
    "DOGE = DOGE.rename(columns={'01/01/18': 'Date', '0,0089': 'W', '0,009': 'X', '0,008': 'Y', '0,0087': 'Z'})"
   ]
  },
  {
   "cell_type": "code",
   "execution_count": 161,
   "metadata": {},
   "outputs": [],
   "source": [
    "DOGE = DOGE.replace({',': '.'}, regex=True)\n",
    "DOGE.W = list(map(lambda x: ast.literal_eval(x), DOGE.W))\n",
    "DOGE.X = list(map(lambda x: ast.literal_eval(x), DOGE.X))\n",
    "DOGE.Y = list(map(lambda x: ast.literal_eval(x), DOGE.Y))\n",
    "DOGE.Z = list(map(lambda x: ast.literal_eval(x), DOGE.Z))"
   ]
  },
  {
   "cell_type": "code",
   "execution_count": 162,
   "metadata": {},
   "outputs": [
    {
     "data": {
      "text/html": [
       "<div>\n",
       "<style scoped>\n",
       "    .dataframe tbody tr th:only-of-type {\n",
       "        vertical-align: middle;\n",
       "    }\n",
       "\n",
       "    .dataframe tbody tr th {\n",
       "        vertical-align: top;\n",
       "    }\n",
       "\n",
       "    .dataframe thead th {\n",
       "        text-align: right;\n",
       "    }\n",
       "</style>\n",
       "<table border=\"1\" class=\"dataframe\">\n",
       "  <thead>\n",
       "    <tr style=\"text-align: right;\">\n",
       "      <th></th>\n",
       "      <th>ABC000000096</th>\n",
       "      <th>Date</th>\n",
       "      <th>W</th>\n",
       "      <th>X</th>\n",
       "      <th>Y</th>\n",
       "      <th>Z</th>\n",
       "      <th>0</th>\n",
       "    </tr>\n",
       "  </thead>\n",
       "  <tbody>\n",
       "    <tr>\n",
       "      <th>0</th>\n",
       "      <td>ABC000000096</td>\n",
       "      <td>02/01/18</td>\n",
       "      <td>0.0087</td>\n",
       "      <td>0.0099</td>\n",
       "      <td>0.0083</td>\n",
       "      <td>0.0090</td>\n",
       "      <td>0</td>\n",
       "    </tr>\n",
       "    <tr>\n",
       "      <th>1</th>\n",
       "      <td>ABC000000096</td>\n",
       "      <td>03/01/18</td>\n",
       "      <td>0.0090</td>\n",
       "      <td>0.0093</td>\n",
       "      <td>0.0083</td>\n",
       "      <td>0.0092</td>\n",
       "      <td>0</td>\n",
       "    </tr>\n",
       "    <tr>\n",
       "      <th>2</th>\n",
       "      <td>ABC000000096</td>\n",
       "      <td>04/01/18</td>\n",
       "      <td>0.0092</td>\n",
       "      <td>0.0103</td>\n",
       "      <td>0.0086</td>\n",
       "      <td>0.0096</td>\n",
       "      <td>0</td>\n",
       "    </tr>\n",
       "    <tr>\n",
       "      <th>3</th>\n",
       "      <td>ABC000000096</td>\n",
       "      <td>05/01/18</td>\n",
       "      <td>0.0096</td>\n",
       "      <td>0.0139</td>\n",
       "      <td>0.0094</td>\n",
       "      <td>0.0126</td>\n",
       "      <td>0</td>\n",
       "    </tr>\n",
       "    <tr>\n",
       "      <th>4</th>\n",
       "      <td>ABC000000096</td>\n",
       "      <td>08/01/18</td>\n",
       "      <td>0.0170</td>\n",
       "      <td>0.0212</td>\n",
       "      <td>0.0130</td>\n",
       "      <td>0.0147</td>\n",
       "      <td>0</td>\n",
       "    </tr>\n",
       "  </tbody>\n",
       "</table>\n",
       "</div>"
      ],
      "text/plain": [
       "   ABC000000096      Date       W       X       Y       Z  0\n",
       "0  ABC000000096  02/01/18  0.0087  0.0099  0.0083  0.0090  0\n",
       "1  ABC000000096  03/01/18  0.0090  0.0093  0.0083  0.0092  0\n",
       "2  ABC000000096  04/01/18  0.0092  0.0103  0.0086  0.0096  0\n",
       "3  ABC000000096  05/01/18  0.0096  0.0139  0.0094  0.0126  0\n",
       "4  ABC000000096  08/01/18  0.0170  0.0212  0.0130  0.0147  0"
      ]
     },
     "execution_count": 162,
     "metadata": {},
     "output_type": "execute_result"
    }
   ],
   "source": [
    "DOGE.head()"
   ]
  },
  {
   "cell_type": "code",
   "execution_count": 169,
   "metadata": {},
   "outputs": [
    {
     "data": {
      "text/plain": [
       "[<matplotlib.lines.Line2D at 0x1234ede80>]"
      ]
     },
     "execution_count": 169,
     "metadata": {},
     "output_type": "execute_result"
    },
    {
     "data": {
      "image/png": "[encoded data removed]",
      "text/plain": [
       "<Figure size 432x288 with 1 Axes>"
      ]
     },
     "metadata": {
      "needs_background": "light"
     },
     "output_type": "display_data"
    }
   ],
   "source": [
    "plt.plot(DOGE.W)"
   ]
  },
  {
   "cell_type": "markdown",
   "metadata": {},
   "source": [
    "### EOD"
   ]
  },
  {
   "cell_type": "code",
   "execution_count": 175,
   "metadata": {},
   "outputs": [],
   "source": [
    "EOS = pd.read_csv('EOSUSD.csv',sep=';')\n",
    "EOS = EOS.rename(columns={'01/01/18': 'Date', '7,69': 'W', '7,95': 'X', '7,20': 'Y', '7,64': 'Z'})"
   ]
  },
  {
   "cell_type": "code",
   "execution_count": 177,
   "metadata": {},
   "outputs": [],
   "source": [
    "EOS = EOS.replace({',': '.'}, regex=True)\n",
    "EOS.W = list(map(lambda x: ast.literal_eval(x), EOS.W))\n",
    "EOS.X = list(map(lambda x: ast.literal_eval(x), EOS.X))\n",
    "EOS.Y = list(map(lambda x: ast.literal_eval(x), EOS.Y))\n",
    "EOS.Z = list(map(lambda x: ast.literal_eval(x), EOS.Z))"
   ]
  },
  {
   "cell_type": "code",
   "execution_count": 179,
   "metadata": {},
   "outputs": [
    {
     "data": {
      "text/html": [
       "<div>\n",
       "<style scoped>\n",
       "    .dataframe tbody tr th:only-of-type {\n",
       "        vertical-align: middle;\n",
       "    }\n",
       "\n",
       "    .dataframe tbody tr th {\n",
       "        vertical-align: top;\n",
       "    }\n",
       "\n",
       "    .dataframe thead th {\n",
       "        text-align: right;\n",
       "    }\n",
       "</style>\n",
       "<table border=\"1\" class=\"dataframe\">\n",
       "  <thead>\n",
       "    <tr style=\"text-align: right;\">\n",
       "      <th></th>\n",
       "      <th>ABC000000101</th>\n",
       "      <th>Date</th>\n",
       "      <th>W</th>\n",
       "      <th>X</th>\n",
       "      <th>Y</th>\n",
       "      <th>Z</th>\n",
       "      <th>0</th>\n",
       "    </tr>\n",
       "  </thead>\n",
       "  <tbody>\n",
       "    <tr>\n",
       "      <th>0</th>\n",
       "      <td>ABC000000101</td>\n",
       "      <td>02/01/18</td>\n",
       "      <td>7.64</td>\n",
       "      <td>8.60</td>\n",
       "      <td>7.63</td>\n",
       "      <td>8.30</td>\n",
       "      <td>0</td>\n",
       "    </tr>\n",
       "    <tr>\n",
       "      <th>1</th>\n",
       "      <td>ABC000000101</td>\n",
       "      <td>03/01/18</td>\n",
       "      <td>8.30</td>\n",
       "      <td>9.43</td>\n",
       "      <td>7.84</td>\n",
       "      <td>9.43</td>\n",
       "      <td>0</td>\n",
       "    </tr>\n",
       "    <tr>\n",
       "      <th>2</th>\n",
       "      <td>ABC000000101</td>\n",
       "      <td>04/01/18</td>\n",
       "      <td>9.43</td>\n",
       "      <td>10.49</td>\n",
       "      <td>9.15</td>\n",
       "      <td>9.47</td>\n",
       "      <td>0</td>\n",
       "    </tr>\n",
       "    <tr>\n",
       "      <th>3</th>\n",
       "      <td>ABC000000101</td>\n",
       "      <td>05/01/18</td>\n",
       "      <td>9.47</td>\n",
       "      <td>9.85</td>\n",
       "      <td>8.51</td>\n",
       "      <td>9.29</td>\n",
       "      <td>0</td>\n",
       "    </tr>\n",
       "    <tr>\n",
       "      <th>4</th>\n",
       "      <td>ABC000000101</td>\n",
       "      <td>08/01/18</td>\n",
       "      <td>10.16</td>\n",
       "      <td>10.39</td>\n",
       "      <td>8.14</td>\n",
       "      <td>9.60</td>\n",
       "      <td>0</td>\n",
       "    </tr>\n",
       "  </tbody>\n",
       "</table>\n",
       "</div>"
      ],
      "text/plain": [
       "   ABC000000101      Date      W      X     Y     Z  0\n",
       "0  ABC000000101  02/01/18   7.64   8.60  7.63  8.30  0\n",
       "1  ABC000000101  03/01/18   8.30   9.43  7.84  9.43  0\n",
       "2  ABC000000101  04/01/18   9.43  10.49  9.15  9.47  0\n",
       "3  ABC000000101  05/01/18   9.47   9.85  8.51  9.29  0\n",
       "4  ABC000000101  08/01/18  10.16  10.39  8.14  9.60  0"
      ]
     },
     "execution_count": 179,
     "metadata": {},
     "output_type": "execute_result"
    }
   ],
   "source": [
    "EOS.head()"
   ]
  },
  {
   "cell_type": "code",
   "execution_count": 180,
   "metadata": {},
   "outputs": [
    {
     "data": {
      "text/plain": [
       "[<matplotlib.lines.Line2D at 0x122616cc0>]"
      ]
     },
     "execution_count": 180,
     "metadata": {},
     "output_type": "execute_result"
    },
    {
     "data": {
      "image/png": "[encoded data removed]",
      "text/plain": [
       "<Figure size 432x288 with 1 Axes>"
      ]
     },
     "metadata": {
      "needs_background": "light"
     },
     "output_type": "display_data"
    }
   ],
   "source": [
    "plt.plot(EOS.W)"
   ]
  },
  {
   "cell_type": "markdown",
   "metadata": {},
   "source": [
    "# Corrélation"
   ]
  },
  {
   "cell_type": "code",
   "execution_count": 181,
   "metadata": {},
   "outputs": [],
   "source": [
    "Cours_crypto = pd.DataFrame(\n",
    "    {'BTC': BTC.W,\n",
    "     'REP': REP.W,\n",
    "     'BTS': BTS.W,\n",
    "     'ADA': ADA.W,\n",
    "     'DASH': DASH.W,\n",
    "     'DOGE': DOGE.W,\n",
    "     'EOS': EOS.W\n",
    "    })"
   ]
  },
  {
   "cell_type": "code",
   "execution_count": 182,
   "metadata": {},
   "outputs": [
    {
     "data": {
      "text/html": [
       "<div>\n",
       "<style scoped>\n",
       "    .dataframe tbody tr th:only-of-type {\n",
       "        vertical-align: middle;\n",
       "    }\n",
       "\n",
       "    .dataframe tbody tr th {\n",
       "        vertical-align: top;\n",
       "    }\n",
       "\n",
       "    .dataframe thead th {\n",
       "        text-align: right;\n",
       "    }\n",
       "</style>\n",
       "<table border=\"1\" class=\"dataframe\">\n",
       "  <thead>\n",
       "    <tr style=\"text-align: right;\">\n",
       "      <th></th>\n",
       "      <th>BTC</th>\n",
       "      <th>REP</th>\n",
       "      <th>BTS</th>\n",
       "      <th>ADA</th>\n",
       "      <th>DASH</th>\n",
       "      <th>DOGE</th>\n",
       "      <th>EOS</th>\n",
       "    </tr>\n",
       "  </thead>\n",
       "  <tbody>\n",
       "    <tr>\n",
       "      <th>0</th>\n",
       "      <td>13382.09</td>\n",
       "      <td>74.95</td>\n",
       "      <td>0.8196</td>\n",
       "      <td>0.7022</td>\n",
       "      <td>1019.63</td>\n",
       "      <td>0.0087</td>\n",
       "      <td>7.64</td>\n",
       "    </tr>\n",
       "    <tr>\n",
       "      <th>1</th>\n",
       "      <td>14690.58</td>\n",
       "      <td>78.99</td>\n",
       "      <td>0.7837</td>\n",
       "      <td>0.7620</td>\n",
       "      <td>1162.47</td>\n",
       "      <td>0.0090</td>\n",
       "      <td>8.30</td>\n",
       "    </tr>\n",
       "    <tr>\n",
       "      <th>2</th>\n",
       "      <td>14920.89</td>\n",
       "      <td>77.00</td>\n",
       "      <td>0.8844</td>\n",
       "      <td>1.1100</td>\n",
       "      <td>1130.10</td>\n",
       "      <td>0.0092</td>\n",
       "      <td>9.43</td>\n",
       "    </tr>\n",
       "    <tr>\n",
       "      <th>3</th>\n",
       "      <td>15059.83</td>\n",
       "      <td>73.00</td>\n",
       "      <td>0.9200</td>\n",
       "      <td>1.1500</td>\n",
       "      <td>1120.12</td>\n",
       "      <td>0.0096</td>\n",
       "      <td>9.47</td>\n",
       "    </tr>\n",
       "    <tr>\n",
       "      <th>4</th>\n",
       "      <td>16218.78</td>\n",
       "      <td>78.67</td>\n",
       "      <td>0.7476</td>\n",
       "      <td>1.0100</td>\n",
       "      <td>1161.96</td>\n",
       "      <td>0.0170</td>\n",
       "      <td>10.16</td>\n",
       "    </tr>\n",
       "  </tbody>\n",
       "</table>\n",
       "</div>"
      ],
      "text/plain": [
       "        BTC    REP     BTS     ADA     DASH    DOGE    EOS\n",
       "0  13382.09  74.95  0.8196  0.7022  1019.63  0.0087   7.64\n",
       "1  14690.58  78.99  0.7837  0.7620  1162.47  0.0090   8.30\n",
       "2  14920.89  77.00  0.8844  1.1100  1130.10  0.0092   9.43\n",
       "3  15059.83  73.00  0.9200  1.1500  1120.12  0.0096   9.47\n",
       "4  16218.78  78.67  0.7476  1.0100  1161.96  0.0170  10.16"
      ]
     },
     "execution_count": 182,
     "metadata": {},
     "output_type": "execute_result"
    }
   ],
   "source": [
    "Cours_crypto.head()"
   ]
  },
  {
   "cell_type": "code",
   "execution_count": 183,
   "metadata": {},
   "outputs": [
    {
     "data": {
      "text/html": [
       "<div>\n",
       "<style scoped>\n",
       "    .dataframe tbody tr th:only-of-type {\n",
       "        vertical-align: middle;\n",
       "    }\n",
       "\n",
       "    .dataframe tbody tr th {\n",
       "        vertical-align: top;\n",
       "    }\n",
       "\n",
       "    .dataframe thead th {\n",
       "        text-align: right;\n",
       "    }\n",
       "</style>\n",
       "<table border=\"1\" class=\"dataframe\">\n",
       "  <thead>\n",
       "    <tr style=\"text-align: right;\">\n",
       "      <th></th>\n",
       "      <th>BTC</th>\n",
       "      <th>REP</th>\n",
       "      <th>BTS</th>\n",
       "      <th>ADA</th>\n",
       "      <th>DASH</th>\n",
       "      <th>DOGE</th>\n",
       "      <th>EOS</th>\n",
       "    </tr>\n",
       "  </thead>\n",
       "  <tbody>\n",
       "    <tr>\n",
       "      <th>BTC</th>\n",
       "      <td>1.000000</td>\n",
       "      <td>0.877186</td>\n",
       "      <td>0.886246</td>\n",
       "      <td>0.932515</td>\n",
       "      <td>0.963966</td>\n",
       "      <td>0.791705</td>\n",
       "      <td>0.469157</td>\n",
       "    </tr>\n",
       "    <tr>\n",
       "      <th>REP</th>\n",
       "      <td>0.877186</td>\n",
       "      <td>1.000000</td>\n",
       "      <td>0.845655</td>\n",
       "      <td>0.914396</td>\n",
       "      <td>0.920972</td>\n",
       "      <td>0.626737</td>\n",
       "      <td>0.619186</td>\n",
       "    </tr>\n",
       "    <tr>\n",
       "      <th>BTS</th>\n",
       "      <td>0.886246</td>\n",
       "      <td>0.845655</td>\n",
       "      <td>1.000000</td>\n",
       "      <td>0.949338</td>\n",
       "      <td>0.890106</td>\n",
       "      <td>0.736871</td>\n",
       "      <td>0.532365</td>\n",
       "    </tr>\n",
       "    <tr>\n",
       "      <th>ADA</th>\n",
       "      <td>0.932515</td>\n",
       "      <td>0.914396</td>\n",
       "      <td>0.949338</td>\n",
       "      <td>1.000000</td>\n",
       "      <td>0.957558</td>\n",
       "      <td>0.764618</td>\n",
       "      <td>0.512116</td>\n",
       "    </tr>\n",
       "    <tr>\n",
       "      <th>DASH</th>\n",
       "      <td>0.963966</td>\n",
       "      <td>0.920972</td>\n",
       "      <td>0.890106</td>\n",
       "      <td>0.957558</td>\n",
       "      <td>1.000000</td>\n",
       "      <td>0.768678</td>\n",
       "      <td>0.473857</td>\n",
       "    </tr>\n",
       "    <tr>\n",
       "      <th>DOGE</th>\n",
       "      <td>0.791705</td>\n",
       "      <td>0.626737</td>\n",
       "      <td>0.736871</td>\n",
       "      <td>0.764618</td>\n",
       "      <td>0.768678</td>\n",
       "      <td>1.000000</td>\n",
       "      <td>0.262343</td>\n",
       "    </tr>\n",
       "    <tr>\n",
       "      <th>EOS</th>\n",
       "      <td>0.469157</td>\n",
       "      <td>0.619186</td>\n",
       "      <td>0.532365</td>\n",
       "      <td>0.512116</td>\n",
       "      <td>0.473857</td>\n",
       "      <td>0.262343</td>\n",
       "      <td>1.000000</td>\n",
       "    </tr>\n",
       "  </tbody>\n",
       "</table>\n",
       "</div>"
      ],
      "text/plain": [
       "           BTC       REP       BTS       ADA      DASH      DOGE       EOS\n",
       "BTC   1.000000  0.877186  0.886246  0.932515  0.963966  0.791705  0.469157\n",
       "REP   0.877186  1.000000  0.845655  0.914396  0.920972  0.626737  0.619186\n",
       "BTS   0.886246  0.845655  1.000000  0.949338  0.890106  0.736871  0.532365\n",
       "ADA   0.932515  0.914396  0.949338  1.000000  0.957558  0.764618  0.512116\n",
       "DASH  0.963966  0.920972  0.890106  0.957558  1.000000  0.768678  0.473857\n",
       "DOGE  0.791705  0.626737  0.736871  0.764618  0.768678  1.000000  0.262343\n",
       "EOS   0.469157  0.619186  0.532365  0.512116  0.473857  0.262343  1.000000"
      ]
     },
     "execution_count": 183,
     "metadata": {},
     "output_type": "execute_result"
    }
   ],
   "source": [
    "Cours_crypto.corr()"
   ]
  },
  {
   "cell_type": "code",
   "execution_count": 184,
   "metadata": {},
   "outputs": [
    {
     "name": "stderr",
     "output_type": "stream",
     "text": [
      "/Users/alexandremendes/anaconda3/lib/python3.7/site-packages/ipykernel_launcher.py:1: FutureWarning: pandas.scatter_matrix is deprecated, use pandas.plotting.scatter_matrix instead\n",
      "  \"\"\"Entry point for launching an IPython kernel.\n"
     ]
    },
    {
     "data": {
      "image/png": "[encoded data removed]",
      "text/plain": [
       "<Figure size 432x432 with 49 Axes>"
      ]
     },
     "metadata": {
      "needs_background": "light"
     },
     "output_type": "display_data"
    }
   ],
   "source": [
    "pd.scatter_matrix(Cours_crypto, figsize=(6, 6))\n",
    "plt.show()"
   ]
  },
  {
   "cell_type": "code",
   "execution_count": 185,
   "metadata": {},
   "outputs": [
    {
     "data": {
      "image/png": "[encoded data removed]",
      "text/plain": [
       "<Figure size 288x288 with 2 Axes>"
      ]
     },
     "metadata": {
      "needs_background": "light"
     },
     "output_type": "display_data"
    }
   ],
   "source": [
    "plt.matshow(Cours_crypto.corr())\n",
    "plt.xticks(range(len(Cours_crypto.columns)), Cours_crypto.columns)\n",
    "plt.yticks(range(len(Cours_crypto.columns)), Cours_crypto.columns)\n",
    "plt.colorbar()\n",
    "plt.show()"
   ]
  }
 ],
 "metadata": {
  "kernelspec": {
   "display_name": "Python 3",
   "language": "python",
   "name": "python3"
  },
  "language_info": {
   "codemirror_mode": {
    "name": "ipython",
    "version": 3
   },
   "file_extension": ".py",
   "mimetype": "text/x-python",
   "name": "python",
   "nbconvert_exporter": "python",
   "pygments_lexer": "ipython3",
   "version": "3.7.0"
  }
 },
 "nbformat": 4,
 "nbformat_minor": 2
}
